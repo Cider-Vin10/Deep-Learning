{
  "nbformat": 4,
  "nbformat_minor": 0,
  "metadata": {
    "colab": {
      "name": "Perceptron.ipynb",
      "provenance": [],
      "collapsed_sections": [],
      "authorship_tag": "ABX9TyMFGeuH53J1YcYjatI8cHYS",
      "include_colab_link": true
    },
    "kernelspec": {
      "name": "python3",
      "display_name": "Python 3"
    },
    "language_info": {
      "name": "python"
    }
  },
  "cells": [
    {
      "cell_type": "markdown",
      "metadata": {
        "id": "view-in-github",
        "colab_type": "text"
      },
      "source": [
        "<a href=\"https://colab.research.google.com/github/Cider-Vin10/Deep-Learning/blob/main/Neurons/Perceptron.ipynb\" target=\"_parent\"><img src=\"https://colab.research.google.com/assets/colab-badge.svg\" alt=\"Open In Colab\"/></a>"
      ]
    },
    {
      "cell_type": "code",
      "execution_count": 10,
      "metadata": {
        "id": "YZ8iyA3UNwny"
      },
      "outputs": [],
      "source": [
        "import numpy as np"
      ]
    },
    {
      "cell_type": "code",
      "source": [
        "feat = np.array([\n",
        "    [0,0],\n",
        "    [0,1],\n",
        "    [1,0],\n",
        "    [1,1]\n",
        "])"
      ],
      "metadata": {
        "id": "y_eJ_VTGOJ0F"
      },
      "execution_count": 11,
      "outputs": []
    },
    {
      "cell_type": "code",
      "source": [
        "#and op\n",
        "labels = np.array([0, 0, 0, 1])"
      ],
      "metadata": {
        "id": "Ydp8bV0sOVWO"
      },
      "execution_count": 12,
      "outputs": []
    },
    {
      "cell_type": "code",
      "source": [
        "#weights\n",
        "w = [0.9, 0.9]\n"
      ],
      "metadata": {
        "id": "M1t9G1vFOa1d"
      },
      "execution_count": 13,
      "outputs": []
    },
    {
      "cell_type": "code",
      "source": [
        "feat.shape[0]"
      ],
      "metadata": {
        "colab": {
          "base_uri": "https://localhost:8080/"
        },
        "id": "X_2TUBTVO6zO",
        "outputId": "23d3e97f-4f4a-42a5-8088-89353ea11057"
      },
      "execution_count": 14,
      "outputs": [
        {
          "output_type": "execute_result",
          "data": {
            "text/plain": [
              "4"
            ]
          },
          "metadata": {},
          "execution_count": 14
        }
      ]
    },
    {
      "cell_type": "code",
      "source": [
        "threshold = 0.5"
      ],
      "metadata": {
        "id": "nwcAGVpXPe4K"
      },
      "execution_count": 15,
      "outputs": []
    },
    {
      "cell_type": "code",
      "source": [
        "for i in range(0, feat.shape[0]):\n",
        "  sample = feat[i]\n",
        "  x0 = sample[0]\n",
        "  x1 = sample[1]\n",
        "\n",
        "  sum = x0 * w[0] + x1 * w[1]\n",
        "  if sum > threshold:\n",
        "    fire = 1\n",
        "  else:\n",
        "    fire = 0\n",
        "\n",
        "  print(\"prediction : \", fire, \"Actual value : \", labels[i])\n",
        "  #print(\"Actual value : \", labels[i])"
      ],
      "metadata": {
        "colab": {
          "base_uri": "https://localhost:8080/"
        },
        "id": "lc9vcF8cO0xB",
        "outputId": "4d89f9a0-a05c-405e-f12d-082ffd3b1a2e"
      },
      "execution_count": 17,
      "outputs": [
        {
          "output_type": "stream",
          "name": "stdout",
          "text": [
            "prediction :  0 Actual value :  0\n",
            "prediction :  1 Actual value :  0\n",
            "prediction :  1 Actual value :  0\n",
            "prediction :  1 Actual value :  1\n"
          ]
        }
      ]
    },
    {
      "cell_type": "code",
      "source": [
        ""
      ],
      "metadata": {
        "id": "wrd5mwRwPEZ5"
      },
      "execution_count": null,
      "outputs": []
    }
  ]
}