{
  "nbformat": 4,
  "nbformat_minor": 0,
  "metadata": {
    "colab": {
      "name": "MP Neuron.ipynb",
      "provenance": [],
      "collapsed_sections": [],
      "authorship_tag": "ABX9TyMYOVbh5vK4/E2L8F+XauPb",
      "include_colab_link": true
    },
    "kernelspec": {
      "name": "python3",
      "display_name": "Python 3"
    },
    "language_info": {
      "name": "python"
    }
  },
  "cells": [
    {
      "cell_type": "markdown",
      "metadata": {
        "id": "view-in-github",
        "colab_type": "text"
      },
      "source": [
        "<a href=\"https://colab.research.google.com/github/Cider-Vin10/Deep-Learning/blob/main/Neurons/MP_Neuron.ipynb\" target=\"_parent\"><img src=\"https://colab.research.google.com/assets/colab-badge.svg\" alt=\"Open In Colab\"/></a>"
      ]
    },
    {
      "cell_type": "code",
      "execution_count": 2,
      "metadata": {
        "id": "hk86ycFkJJiR"
      },
      "outputs": [],
      "source": [
        "import pandas as pd\n",
        "import matplotlib.pyplot as plt\n",
        "import numpy as np\n",
        "from sklearn.metrics import accuracy_score\n",
        "import operator\n",
        "\n"
      ]
    },
    {
      "cell_type": "code",
      "source": [
        "class MPModel:\n",
        "    def __init__(self, function='sum'):\n",
        "        # We can pass some initial value of threshold.\n",
        "        self.threshold = None\n",
        "        if function == 'sum':\n",
        "            self.function = self.sum_function\n",
        "\n",
        "    def sum_function(self, x):\n",
        "        return sum(x) >= self.threshold\n",
        "\n",
        "    def and_function(self, x):\n",
        "        return all(x)\n",
        "\n",
        "    def or_function(self, x):\n",
        "        return any(x)\n",
        "\n",
        "    def fit(self, X_DataFrame, y_DataFrame):\n",
        "        threshold_accuracy_dict = {}\n",
        "        for threshold in range(len(X_DataFrame.columns) + 1):\n",
        "            threshold_accuracy_dict[threshold] = None\n",
        "        for threshold in threshold_accuracy_dict.keys():\n",
        "            self.threshold = threshold\n",
        "            predictions = self.predict(X_DataFrame)\n",
        "            threshold_accuracy_dict[threshold] = accuracy_score(y_DataFrame, predictions)\n",
        "        self.threshold = max(threshold_accuracy_dict.items(), key=operator.itemgetter(1))[0]\n",
        "        print(self.threshold, 'threshold', threshold_accuracy_dict)\n",
        "\n",
        "    def predict(self, X_DataFrame):\n",
        "        results = np.array([])\n",
        "        for i in range(len(X_DataFrame)):\n",
        "            result = self.function(X_DataFrame.iloc[i])\n",
        "            results = np.append(results, result)\n",
        "        return results\n",
        "\n"
      ],
      "metadata": {
        "id": "0YncEpQNJUf6"
      },
      "execution_count": 3,
      "outputs": []
    },
    {
      "cell_type": "code",
      "source": [
        "df_dict = {\n",
        "    'Viney': [0, 1, 0, 1, 0, 1, 1, 0, 0, 0, 1, 1, 0, 0, 1, 1],\n",
        "    'Nishant': [1, 1, 1, 1, 0, 0, 1, 0, 0, 1, 0, 0, 1, 0, 1, 1],\n",
        "    'Vedant': [0, 1, 1, 1, 0, 1, 0, 0, 0, 1, 1, 1, 1, 0, 1, 1]\n",
        "}\n",
        "pd_df = pd.DataFrame(df_dict)\n",
        "\n",
        "\n",
        "mpm = MPModel()\n",
        "mpm.fit(pd_df[['Viney', 'Nishant']], pd_df['Vedant'])\n",
        "\n",
        "df_dict_test = {\n",
        "    'Viney': [0, 1, 1, 0],\n",
        "    'Nishant': [1, 1, 0, 0],\n",
        "    'Vedant': [1, 1, 1, 0]\n",
        "}\n",
        "\n",
        "pd_df_test = pd.DataFrame(df_dict_test)\n",
        "predictions = mpm.predict(pd_df_test[['Viney', 'Nishant']])\n",
        "accuracy_score(predictions, pd_df_test['Vedant'])\n",
        "\n"
      ],
      "metadata": {
        "colab": {
          "base_uri": "https://localhost:8080/"
        },
        "id": "alA7U_1BJwJ0",
        "outputId": "362e90b8-1d27-4838-aa6a-e4f1ed9fd2c7"
      },
      "execution_count": 8,
      "outputs": [
        {
          "output_type": "stream",
          "name": "stdout",
          "text": [
            "1 threshold {0: 0.625, 1: 0.875, 2: 0.5625}\n"
          ]
        },
        {
          "output_type": "execute_result",
          "data": {
            "text/plain": [
              "1.0"
            ]
          },
          "metadata": {},
          "execution_count": 8
        }
      ]
    },
    {
      "cell_type": "code",
      "source": [
        "x = np.linspace(-0.5, 1.5, 100)\n",
        "y = -x + 1\n",
        "plt.plot(x, y, '-r', label='y=2x+1')\n",
        "plt.plot()\n",
        "plt.scatter(df_dict_test['Viney'], df_dict_test['Nishant'], c=df_dict_test['Vedant'])"
      ],
      "metadata": {
        "colab": {
          "base_uri": "https://localhost:8080/",
          "height": 282
        },
        "id": "XeMQ9wutJzx7",
        "outputId": "57451c58-6e23-403c-c37c-48c895fd1502"
      },
      "execution_count": 7,
      "outputs": [
        {
          "output_type": "execute_result",
          "data": {
            "text/plain": [
              "<matplotlib.collections.PathCollection at 0x7f966cb5cd90>"
            ]
          },
          "metadata": {},
          "execution_count": 7
        },
        {
          "output_type": "display_data",
          "data": {
            "text/plain": [
              "<Figure size 432x288 with 1 Axes>"
            ],
            "image/png": "[encoded data removed]"
          },
          "metadata": {
            "needs_background": "light"
          }
        }
      ]
    },
    {
      "cell_type": "code",
      "source": [
        ""
      ],
      "metadata": {
        "id": "V4UJDXpwJ0N7"
      },
      "execution_count": null,
      "outputs": []
    }
  ]
}