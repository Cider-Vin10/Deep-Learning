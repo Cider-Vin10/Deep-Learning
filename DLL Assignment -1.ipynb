{
 "cells": [
  {
   "cell_type": "markdown",
   "metadata": {},
   "source": [
    "## PERCEPTRON"
   ]
  },
  {
   "cell_type": "code",
   "execution_count": 1,
   "metadata": {},
   "outputs": [
    {
     "name": "stdout",
     "output_type": "stream",
     "text": [
      "Enter num of inputs: 3\n",
      "X : 1\n",
      "X : 2\n",
      "X : 3\n",
      "INPUT WEIGHTS:\n",
      "wgt : 3\n",
      "wgt : 2\n",
      "wgt : 1\n",
      "Enter threshold value : 5\n",
      "1\n"
     ]
    }
   ],
   "source": [
    "#taking n inputs we want\n",
    "n = int(input(\"Enter num of inputs: \"))\n",
    "\n",
    "#Taking inputs for X\n",
    "X=[]\n",
    "for i in range(0,n):\n",
    "    X.append(int(input(\"X : \")))\n",
    "    \n",
    "# now we take weights\n",
    "print(\"INPUT WEIGHTS:\")\n",
    "wgt = []\n",
    "for i in range(0,n):\n",
    "    wgt.append(int(input(\"wgt : \")))\n",
    "    \n",
    "#Threshold values\n",
    "threshold = int(input(\"Enter threshold value : \"))\n",
    "\n",
    "sum = 0\n",
    "for i in range(0,n):\n",
    "    sum = sum + (X[i]*wgt[i])\n",
    "    \n",
    "# Condition\n",
    "if sum>= threshold:\n",
    "    print(\"1\")\n",
    "else:\n",
    "    print(\"0\")"
   ]
  },
  {
   "cell_type": "markdown",
   "metadata": {},
   "source": [
    "## SIGMOID NEURON"
   ]
  },
  {
   "cell_type": "code",
   "execution_count": 2,
   "metadata": {
    "id": "ZlYjlP2nDYPN"
   },
   "outputs": [
    {
     "name": "stdout",
     "output_type": "stream",
     "text": [
      "Enter num of inputs: 3\n",
      "X : 5\n",
      "X : 10\n",
      "X : 5\n",
      "INPUT WEIGHTS:\n",
      "wgt : 4\n",
      "wgt : 2\n",
      "wgt : 6\n",
      "Enter value of b : 2.5\n",
      "1.00\n"
     ]
    }
   ],
   "source": [
    "#taking n inputs we want\n",
    "n = int(input(\"Enter num of inputs: \"))\n",
    "\n",
    "#Taking inputs for X\n",
    "X=[]\n",
    "for i in range(0,n):\n",
    "    X.append(int(input(\"X : \")))\n",
    "    \n",
    "# now we take weights\n",
    "print(\"INPUT WEIGHTS:\")\n",
    "wgt = []\n",
    "for i in range(0,n):\n",
    "    wgt.append(int(input(\"wgt : \")))\n",
    "    \n",
    "from math import e\n",
    "\n",
    "sum = 0\n",
    "for i in range(0,n):\n",
    "    sum = sum + (X[i]*wgt[i])\n",
    "\n",
    "b = float(input(\"Enter value of b : \"))\n",
    "\n",
    "y = 1/(1 + e**(-(sum + b)))\n",
    "print(\"{:.2f}\".format(y))"
   ]
  },
  {
   "cell_type": "markdown",
   "metadata": {},
   "source": [
    "## MP NEURON"
   ]
  },
  {
   "cell_type": "code",
   "execution_count": 3,
   "metadata": {},
   "outputs": [
    {
     "name": "stdout",
     "output_type": "stream",
     "text": [
      "Enter num of inputs: 3\n",
      "X : 1\n",
      "X : 1\n",
      "X : 1\n",
      "Enter threshold value : 4\n",
      "0\n"
     ]
    }
   ],
   "source": [
    "#taking n inputs we want\n",
    "n = int(input(\"Enter num of inputs: \"))\n",
    "\n",
    "#Taking inputs for X\n",
    "X=[]\n",
    "for i in range(0,n):\n",
    "    X.append(int(input(\"X : \")))\n",
    "    \n",
    "#Threshold values\n",
    "threshold = int(input(\"Enter threshold value : \"))\n",
    "    \n",
    "sum = 0\n",
    "for i in range(0,n):\n",
    "    sum += X[i]\n",
    "    \n",
    "if sum>= threshold:\n",
    "    print(\"1\")\n",
    "else:\n",
    "    print(\"0\")"
   ]
  },
  {
   "cell_type": "code",
   "execution_count": null,
   "metadata": {},
   "outputs": [],
   "source": []
  }
 ],
 "metadata": {
  "colab": {
   "collapsed_sections": [],
   "name": "Assignment 1- neurons.ipynb",
   "provenance": []
  },
  "kernelspec": {
   "display_name": "Python 3 (ipykernel)",
   "language": "python",
   "name": "python3"
  },
  "language_info": {
   "codemirror_mode": {
    "name": "ipython",
    "version": 3
   },
   "file_extension": ".py",
   "mimetype": "text/x-python",
   "name": "python",
   "nbconvert_exporter": "python",
   "pygments_lexer": "ipython3",
   "version": "3.9.12"
  }
 },
 "nbformat": 4,
 "nbformat_minor": 1
}
